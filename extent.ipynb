{
 "cells": [
  {
   "cell_type": "markdown",
   "metadata": {},
   "source": [
    "# Setting extent parameters\n",
    "\n",
    "The goal is to subset the existing data to a geographic location.  We had talked about various means by which this could be achieved using a map.  It's easy to do if we let the user just specify min/max of lat and lon as variables.  We'd like to set those parameters graphically. Here's a first stab at that: "
   ]
  },
  {
   "cell_type": "code",
   "execution_count": null,
   "metadata": {},
   "outputs": [],
   "source": [
    "import numpy as np\n",
    "try:\n",
    "    import ipyleaflet\n",
    "except:\n",
    "    print(\"Cannot import Leaflet widget.  We need that.\")\n",
    "    raise"
   ]
  },
  {
   "cell_type": "markdown",
   "metadata": {},
   "source": [
    "## Create Leaflet Map\n",
    "Creating a default map, centered on the upper midwest.  We use default navigation (zoom, pan, etc), and add a `DrawControl` widget so that we can draw on the map. All drawing tools except rectangle have been disabled. "
   ]
  },
  {
   "cell_type": "code",
   "execution_count": null,
   "metadata": {},
   "outputs": [],
   "source": [
    "m = ipyleaflet.Map(\n",
    "    basemap = ipyleaflet.basemap_to_tiles(ipyleaflet.basemaps.Stamen.Terrain), \n",
    "    center=(44.5, -92), \n",
    "    zoom=5\n",
    ")\n",
    "\n",
    "annotationLayer = ipyleaflet.DrawControl()\n",
    "\n",
    "annotationLayer.rectangle = {\n",
    "    \"shapeOptions\": {\n",
    "        \"fillColor\": \"#ff0000\",\n",
    "        \"color\": \"#ff0000\",\n",
    "        \"fillOpacity\": 0.5\n",
    "    }\n",
    "}\n",
    "annotationLayer.polyline={}\n",
    "annotationLayer.polygon={}\n",
    "annotationLayer.circle={}\n",
    "annotationLayer.circlemarker={}\n",
    "annotationLayer.edit = False # ipyleaflet.Bool(False).tag(sync=True)\n",
    "m.add_control(annotationLayer)\n",
    "m"
   ]
  },
  {
   "cell_type": "markdown",
   "metadata": {},
   "source": [
    "## Draw Extent\n",
    "Use the draw button (dark square, near the zoom +/-) to draw your extent.  \n",
    "\n",
    "Note that the draw tool allows you to put on multiple rectangles.  A necessary enhancement to this sketch is that we will want to limit that to just one. As it stands right now, I will use only the most recently drawn rectangle to determine selection criteria. \n",
    "\n",
    "After you draw at least one rectangle in the widget, execute the next cell."
   ]
  },
  {
   "cell_type": "code",
   "execution_count": null,
   "metadata": {},
   "outputs": [],
   "source": [
    "# Let's see what we got... \n",
    "annotationLayer.data"
   ]
  },
  {
   "cell_type": "code",
   "execution_count": null,
   "metadata": {},
   "outputs": [],
   "source": [
    "if annotationLayer.data:\n",
    "    rect = annotationLayer.data[-1]\n",
    "    extent_coords = np.array(rect['geometry']['coordinates'])\n",
    "\n",
    "    minX = np.min(extent_coords[:,:,0])\n",
    "    maxX = np.max(extent_coords[:,:,0])\n",
    "    print(f\"Min X = {minX} ; Max X = {maxX}\")\n",
    "\n",
    "    minY = np.min(extent_coords[:,:,1])\n",
    "    maxY = np.max(extent_coords[:,:,1])\n",
    "    print(f\"Min Y = {minY} ; Max Y = {maxY}\")\n",
    "else:\n",
    "    print(\"Could not find any geometry in the draw/annotation layer\")\n",
    "    print(\"Using the extent of your entire dataset...\")"
   ]
  },
  {
   "cell_type": "code",
   "execution_count": null,
   "metadata": {},
   "outputs": [],
   "source": []
  }
 ],
 "metadata": {
  "kernelspec": {
   "display_name": "Python 3.10.5 ('hytest')",
   "language": "python",
   "name": "python3"
  },
  "language_info": {
   "codemirror_mode": {
    "name": "ipython",
    "version": 3
   },
   "file_extension": ".py",
   "mimetype": "text/x-python",
   "name": "python",
   "nbconvert_exporter": "python",
   "pygments_lexer": "ipython3",
   "version": "3.10.5"
  },
  "vscode": {
   "interpreter": {
    "hash": "4100cc85ffefb381c538d28dd18cb927e5a99f05bbed6aaad5313d7bb1c2079e"
   }
  }
 },
 "nbformat": 4,
 "nbformat_minor": 2
}
