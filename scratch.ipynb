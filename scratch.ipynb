{
 "cells": [
  {
   "cell_type": "code",
   "execution_count": null,
   "metadata": {},
   "outputs": [],
   "source": [
    "from PIL import Image\n",
    "import numpy as np\n",
    "import matplotlib\n",
    "import matplotlib.pyplot as plt\n",
    "\n",
    "cm = 1/2.54  # centimeters in inches\n",
    "\n",
    "import sys, os"
   ]
  },
  {
   "cell_type": "code",
   "execution_count": null,
   "metadata": {},
   "outputs": [],
   "source": [
    "DEM_data = np.asarray(Image.open(r'/Users/trantham/GIS Cave/SampleDEMs/WizardIsland.tif'))\n",
    "cellwidth = 7.5\n",
    "\n",
    "fig, axs = plt.subplots(1, 2, figsize=(7*cm, 3*cm), dpi=300)\n",
    "fig.suptitle(\"Sample DEM\", size=6)\n",
    "\n",
    "axs[0].axis('off')\n",
    "axs[0].imshow(DEM_data, cmap='cividis')\n",
    "axs[1].tick_params(axis='x', labelsize=4)\n",
    "axs[1].yaxis.set_visible(False)\n",
    "axs[1].hist(DEM_data.ravel(), color='gray')\n",
    "plt.show()"
   ]
  },
  {
   "cell_type": "code",
   "execution_count": null,
   "metadata": {},
   "outputs": [],
   "source": [
    "for i in range(0,20):\n",
    "    print(i)\n"
   ]
  },
  {
   "cell_type": "code",
   "execution_count": null,
   "metadata": {},
   "outputs": [],
   "source": []
  }
 ],
 "metadata": {
  "kernelspec": {
   "display_name": "Python 3.9.12 ('gis')",
   "language": "python",
   "name": "python3"
  },
  "language_info": {
   "codemirror_mode": {
    "name": "ipython",
    "version": 3
   },
   "file_extension": ".py",
   "mimetype": "text/x-python",
   "name": "python",
   "nbconvert_exporter": "python",
   "pygments_lexer": "ipython3",
   "version": "3.9.12"
  },
  "vscode": {
   "interpreter": {
    "hash": "39d1f9e880ef63d517452f2e61ad4784110ebdb562709a8ce71fc1c013d9428d"
   }
  }
 },
 "nbformat": 4,
 "nbformat_minor": 2
}
