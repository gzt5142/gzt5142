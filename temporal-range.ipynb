{
 "cells": [
  {
   "cell_type": "markdown",
   "metadata": {},
   "source": [
    "# Selecting Temporal Range\n",
    "\n",
    "We want to set up an interactive element to let the user quickly specify a range of dates to use as a filter on their data. The Jupyter environment has a few options for doing this.  We'll look at a couple and recommend the one that seems easiest on the user. "
   ]
  },
  {
   "cell_type": "code",
   "execution_count": null,
   "metadata": {},
   "outputs": [],
   "source": [
    "import ipywidgets\n",
    "from ipywidgets import interact\n",
    "import datetime\n",
    "import pandas as pd\n"
   ]
  },
  {
   "cell_type": "markdown",
   "metadata": {},
   "source": [
    "## Set Dates Using `DatePicker` widget\n",
    "The easy option is to use a `DatePicker` widget to specify the start and end dates separately: "
   ]
  },
  {
   "cell_type": "code",
   "execution_count": null,
   "metadata": {},
   "outputs": [],
   "source": [
    "start_date = ipywidgets.DatePicker(\n",
    "    description=\"Start\",\n",
    "    value=datetime.date(2020, 1, 1),\n",
    "    disabled=False\n",
    ")\n",
    "end_date = ipywidgets.DatePicker(\n",
    "    description=\"End\",\n",
    "    value=datetime.date(2022, 7, 1),\n",
    "    disabled=False\n",
    ")\n",
    "display(start_date)\n",
    "display(end_date)"
   ]
  },
  {
   "cell_type": "code",
   "execution_count": null,
   "metadata": {},
   "outputs": [],
   "source": [
    "print(f\"Range is from {start_date.value} to {end_date.value}\")"
   ]
  },
  {
   "cell_type": "markdown",
   "metadata": {},
   "source": [
    "Note that we set default values when each `DatePicker` was created. You don't have to do that, but the user experience is better if you do. The big reason is that the picker's `value` is `None` if you don't specify a start/default value.  Start with a good default, and we won't have to check the data for sanity later. \n",
    "\n",
    "The `DatePicker` is not configurable in terms of granularity.  It can't be restricted to pick a week, a month, or just a year. To do that, we need to use another tool (see below).  \n",
    "\n",
    "A slight enhancement to the dual `DatePicker` approach is to combine them using `interact()`: "
   ]
  },
  {
   "cell_type": "code",
   "execution_count": null,
   "metadata": {},
   "outputs": [],
   "source": [
    "def fn(start, end):\n",
    "    print(f\"Range is from {start} to {end}\")\n",
    "\n",
    "_ = interact(fn, start=ipywidgets.DatePicker(value=datetime.date(2020, 1, 1)), end=ipywidgets.DatePicker(value=datetime.date(2020, 12, 31)))"
   ]
  },
  {
   "cell_type": "markdown",
   "metadata": {},
   "source": [
    "The advantage here is that the plumbing for listening to events and setting handlers has all been done for us by `interact()`. The `fn()` function is called whenever either of the `DatePicker` objects updates its value.\n",
    "\n",
    "Using `interact`, the selected value of each of those widgets is not available later, unless you take steps to ensure that behavior within your handler function. This makes `interact` a good choice if the dates will be used to directly modify other elements displayed from the same cell (as in the print statements, above). But if you want those values later, `interact` may not be the right way to go.   "
   ]
  },
  {
   "cell_type": "markdown",
   "metadata": {},
   "source": [
    "## Set Dates Using `SelectionRangeSlider` widget"
   ]
  },
  {
   "cell_type": "code",
   "execution_count": null,
   "metadata": {},
   "outputs": [],
   "source": [
    "dates = [datetime.date(2020, i, 1) for i in range(1, 13)]\n",
    "options = [(i.strftime('%b, %Y'), i) for i in dates]\n",
    "rSlider = ipywidgets.SelectionRangeSlider(\n",
    "    options=options,\n",
    "    index=(0, 11),\n",
    "    description='Months:',\n",
    "    disabled=False,\n",
    "    layout={'width':'600px'}\n",
    ")\n",
    "display(rSlider)"
   ]
  },
  {
   "cell_type": "code",
   "execution_count": null,
   "metadata": {},
   "outputs": [],
   "source": [
    "rSlider.value"
   ]
  },
  {
   "cell_type": "markdown",
   "metadata": {},
   "source": [
    "... and you can also use `interact`, similar to what we did above with the `DatePicker`: "
   ]
  },
  {
   "cell_type": "code",
   "execution_count": null,
   "metadata": {},
   "outputs": [],
   "source": [
    "def fn(r):\n",
    "    print(f\"Range is from {r[0]} to {r[1]}\")\n",
    "\n",
    "_ = interact(fn, r=ipywidgets.SelectionRangeSlider(\n",
    "    options=options,\n",
    "    index=(0, 11),\n",
    "    description='Months:',\n",
    "    disabled=False,\n",
    "    layout={'width':'600px'}\n",
    "))"
   ]
  },
  {
   "cell_type": "markdown",
   "metadata": {},
   "source": [
    "The value (and the challenge) of using this range slider is in setting up the tuples that establish the labels and values for the range of options on the slider. The above example set that up with: \n",
    "```python\n",
    "dates = [datetime.date(2015, i, 1) for i in range(1, 13)]\n",
    "options = [(i.strftime('%b:%y'), i) for i in dates]\n",
    "``` "
   ]
  },
  {
   "cell_type": "code",
   "execution_count": null,
   "metadata": {},
   "outputs": [],
   "source": [
    "dates"
   ]
  },
  {
   "cell_type": "code",
   "execution_count": null,
   "metadata": {},
   "outputs": [],
   "source": [
    "options"
   ]
  },
  {
   "cell_type": "markdown",
   "metadata": {},
   "source": [
    "Setting up the `options` array of 2-tuples is a bit of a pain in the neck, but it lets us have a lot of control over how to display the options to the user. In this way, we can set up the sliders to just be years, months-years, or some other useful designation. See the `strftime()` method on dates to explore useful label formatting.  \n",
    "\n",
    "Note that the actual pick-able values are stored as `datetime.date` in this case, which will be useful later, as xarray (and other tools) can extrapolate from these to the correct granularity to select data.  "
   ]
  },
  {
   "cell_type": "markdown",
   "metadata": {},
   "source": [
    "## Customizing to the Dataset\n",
    "\n",
    "The most useful widget would be pre-configured to the dataset it will be used to select. That is, we should examine the data in the dataset to come up with the minimum and maximum date values, then configure the list of available options from that.  We don't have to know the granularity of the data, since we will be storing the selection dates as `datetime.date` values. "
   ]
  },
  {
   "cell_type": "code",
   "execution_count": null,
   "metadata": {},
   "outputs": [],
   "source": [
    "# Mimic parsing the data to get min and max date values. \n",
    "mindate = ipywidgets.DatePicker(\n",
    "    description=\"Start\",\n",
    "    value=datetime.date(2021, 1, 1),\n",
    "    disabled=False\n",
    ")\n",
    "maxdate = ipywidgets.DatePicker(\n",
    "    description=\"End\",\n",
    "    value=datetime.date(2022, 7, 1),\n",
    "    disabled=False\n",
    ")\n",
    "frq = ipywidgets.Dropdown(\n",
    "    description=\"Granularity:\",\n",
    "    options=[('Daily', 'D'), ('Weekly', 'W'), ('Monthly (start of month)', \"MS\"), (\"Monthly (end of month)\", \"M\")],\n",
    "    value=\"MS\",\n",
    "    disabled=False\n",
    ")\n",
    "print(\"Simulating parsing the data.... set the min & max dates, along with the granularity you want in the slider: \")\n",
    "display(mindate)\n",
    "display(maxdate)\n",
    "display(frq)"
   ]
  },
  {
   "cell_type": "code",
   "execution_count": null,
   "metadata": {},
   "outputs": [],
   "source": [
    "# Using the built-in from pandas, because it does the job easily -- and we don't have to roll our own. \n",
    "print(f\"Creating dates by {frq.value} between {mindate.value} and {maxdate.value}\")\n",
    "daterange = [i.date() for i in pd.date_range(start=mindate.value, end=maxdate.value, freq=frq.value).to_pydatetime()]\n",
    "print(f\"{len(daterange)} entries.\")\n"
   ]
  },
  {
   "cell_type": "markdown",
   "metadata": {},
   "source": [
    "Note carefully that I used a list comprehension to turn the list of `datetime` objects into plain old `date`.  If your data needs to have less-than-a-day granularity, then you can skip the comprehension and just use the `pd.date_range(...).to_pydatetime()` call. \n",
    "\n",
    "Now that we have an ordered list of `date` data, we can build the range using it. "
   ]
  },
  {
   "cell_type": "code",
   "execution_count": null,
   "metadata": {},
   "outputs": [],
   "source": [
    "\n",
    "slider_options = [(i.strftime('%b, %Y'), i) for i in daterange]\n",
    "r = ipywidgets.SelectionRangeSlider(\n",
    "    options=slider_options,\n",
    "    index=(0, len(daterange)-1),\n",
    "    description='Date range:',\n",
    "    disabled=False,\n",
    "    layout={'width':'800px'}\n",
    ")\n",
    "display(r)"
   ]
  },
  {
   "cell_type": "code",
   "execution_count": null,
   "metadata": {},
   "outputs": [],
   "source": [
    "r.value"
   ]
  },
  {
   "cell_type": "markdown",
   "metadata": {},
   "source": [
    "... Or... with `interact`:"
   ]
  },
  {
   "cell_type": "code",
   "execution_count": null,
   "metadata": {},
   "outputs": [],
   "source": [
    "def fn(r):\n",
    "    print(f\"Selected Range is from {r[0]} to {r[1]}\")\n",
    "\n",
    "_ = interact(fn, r=ipywidgets.SelectionRangeSlider(\n",
    "    options=slider_options,\n",
    "    index=(0, len(daterange)-1),\n",
    "    description='Date range:',\n",
    "    disabled=False,\n",
    "    layout={'width':'800px'}\n",
    "))"
   ]
  }
 ],
 "metadata": {
  "kernelspec": {
   "display_name": "Python 3.10.5 ('base')",
   "language": "python",
   "name": "python3"
  },
  "language_info": {
   "codemirror_mode": {
    "name": "ipython",
    "version": 3
   },
   "file_extension": ".py",
   "mimetype": "text/x-python",
   "name": "python",
   "nbconvert_exporter": "python",
   "pygments_lexer": "ipython3",
   "version": "3.10.5"
  },
  "vscode": {
   "interpreter": {
    "hash": "7a702d201587126c4b3cff01e5466ce0c97e0ffdee1d4d2db6c8135065c75d83"
   }
  }
 },
 "nbformat": 4,
 "nbformat_minor": 2
}
